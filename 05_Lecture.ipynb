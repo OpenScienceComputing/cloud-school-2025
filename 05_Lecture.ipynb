{
 "cells": [
  {
   "cell_type": "markdown",
   "id": "139b42ed-3d8f-4a8b-9db9-62a711195ef5",
   "metadata": {},
   "source": [
    "<img src=\"./images/school_logo.png\" alt=\"School Logo\" width=\"300\">"
   ]
  },
  {
   "cell_type": "markdown",
   "id": "82c8a520-c267-4127-9507-b5003d5ef539",
   "metadata": {},
   "source": [
    "## Lecture 5: Introduction to Xarray\n",
    "\n",
    "Xarray is a Python library that provides powerful tools for working with multi-dimensional labeled arrays. It extends the functionality of NumPy and makes it easier to handle science and engineering datasets by associating coordinates and metadata with the data itself, using the NetCDF data model. \n",
    "\n",
    "* [Xarray Tutorial Notebook](./xarray_tutorial.ipynb) (45 min)"
   ]
  },
  {
   "cell_type": "code",
   "execution_count": null,
   "id": "96bba03a-6203-4311-8bfb-ed20c5af4e58",
   "metadata": {},
   "outputs": [],
   "source": []
  }
 ],
 "metadata": {
  "kernelspec": {
   "display_name": "Python [conda env:pangeo_z3]",
   "language": "python",
   "name": "conda-env-pangeo_z3-py"
  },
  "language_info": {
   "codemirror_mode": {
    "name": "ipython",
    "version": 3
   },
   "file_extension": ".py",
   "mimetype": "text/x-python",
   "name": "python",
   "nbconvert_exporter": "python",
   "pygments_lexer": "ipython3",
   "version": "3.12.11"
  },
  "widgets": {
   "application/vnd.jupyter.widget-state+json": {
    "state": {},
    "version_major": 2,
    "version_minor": 0
   }
  }
 },
 "nbformat": 4,
 "nbformat_minor": 5
}
