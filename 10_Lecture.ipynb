{
 "cells": [
  {
   "cell_type": "markdown",
   "id": "139b42ed-3d8f-4a8b-9db9-62a711195ef5",
   "metadata": {},
   "source": [
    "<img src=\"./images/school_logo.png\" alt=\"School Logo\" width=\"300\">"
   ]
  },
  {
   "cell_type": "markdown",
   "id": "82c8a520-c267-4127-9507-b5003d5ef539",
   "metadata": {},
   "source": [
    "## Lecture 10: Working with Satellite Imagery\n",
    "\n",
    "\n",
    "The process of accessing satellite imagery in Python begins with the SpatioTemporal Asset Catalog (STAC) specification, which standardizes the metadata for geospatial assets. The pystac-client library facilitates discovery by connecting to STAC APIs (like the Planetary Computer or Earth Search) and executing searches based on spatial, temporal, and other criteria to retrieve a collection of STAC Items. Once the desired data is identified, the odc-stac library acts as the bridge, converting the metadata-rich STAC Items—which point to the actual cloud-optimized GeoTIFF files—into an analysis-ready, multi-dimensional array structure. This structure is typically a geo-registered xarray.Dataset, which natively handles the spatial and temporal dimensions of the satellite data, enabling efficient analysis, manipulation, and visualization using the power of the Python scientific data stack.\n",
    "\n",
    "* [Pete Gadomski LANDSAT demo](./planetary-computer-odc-stac-landsat.ipynb)"
   ]
  },
  {
   "cell_type": "code",
   "execution_count": null,
   "id": "5ff8c540-49c8-4a82-9557-c25fb86246af",
   "metadata": {},
   "outputs": [],
   "source": []
  }
 ],
 "metadata": {
  "kernelspec": {
   "display_name": "Python [conda env:pangeo_z3]",
   "language": "python",
   "name": "conda-env-pangeo_z3-py"
  },
  "language_info": {
   "codemirror_mode": {
    "name": "ipython",
    "version": 3
   },
   "file_extension": ".py",
   "mimetype": "text/x-python",
   "name": "python",
   "nbconvert_exporter": "python",
   "pygments_lexer": "ipython3",
   "version": "3.12.11"
  },
  "widgets": {
   "application/vnd.jupyter.widget-state+json": {
    "state": {},
    "version_major": 2,
    "version_minor": 0
   }
  }
 },
 "nbformat": 4,
 "nbformat_minor": 5
}
