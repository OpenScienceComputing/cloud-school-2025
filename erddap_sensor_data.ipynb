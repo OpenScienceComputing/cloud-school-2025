{
 "cells": [
  {
   "cell_type": "markdown",
   "id": "d7e967b0-f6eb-4549-bd59-c5709da38083",
   "metadata": {},
   "source": [
    "# Use ERDDAPy to obtain sensor data"
   ]
  },
  {
   "cell_type": "markdown",
   "id": "269627c8-6ecc-45a1-9c07-86f336dc2137",
   "metadata": {},
   "source": [
    "This query was provided by Antonio Novellino (Antonio.Novellino@dedagroup.it):\n",
    "\n",
    "https://er1webapps.emodnet-physics.eu/erddap/tabledap/TS_ALTS_CMCC.htmlTable?time%2CALTS&PLATFORMCODE=%22TG_CIV_01%22&SOURCE=%22cmcc%22&SENSOR=%22Radar%22&time%3E=2025-06-26T00%3A00%3A00Z&time%3C=2025-07-03T00%3A00%3A00Z\n",
    "\n",
    "Here we use [ERDDAPy](https://ioos.github.io/erddapy/index.html) to formulate queries like this and return the data as xarray datasets."
   ]
  },
  {
   "cell_type": "code",
   "execution_count": null,
   "id": "d194e7f1-da38-48c1-804d-55b77b3f57ef",
   "metadata": {},
   "outputs": [],
   "source": [
    "from erddapy import ERDDAP\n",
    "import hvplot.xarray"
   ]
  },
  {
   "cell_type": "code",
   "execution_count": null,
   "id": "03dcf1fa-760c-4e68-80ce-90891b6f5376",
   "metadata": {},
   "outputs": [],
   "source": [
    "e = ERDDAP(server=\"https://er1webapps.emodnet-physics.eu/erddap\")"
   ]
  },
  {
   "cell_type": "code",
   "execution_count": null,
   "id": "36c80bb8-7ac5-4c3a-bb6d-c22947bcc37e",
   "metadata": {},
   "outputs": [],
   "source": [
    "e.dataset_id = \"TS_ALTS_CMCC\"\n",
    "e.protocol = \"tabledap\"\n",
    "e.variables=['time', 'ALTS']"
   ]
  },
  {
   "cell_type": "markdown",
   "id": "92571790-8f9a-4a8c-93bc-015428a0ba91",
   "metadata": {},
   "source": [
    "### Extract data from the last 14 days"
   ]
  },
  {
   "cell_type": "code",
   "execution_count": null,
   "id": "a9a50aba-8110-4bbf-b52c-fa12d27958fc",
   "metadata": {},
   "outputs": [],
   "source": [
    "e.constraints = {\n",
    "    \"time>=\": \"now-14days\",  \n",
    "    \"SENSOR=\": \"Radar\",\n",
    "    \"PLATFORMCODE=\": \"TG_CIV_01\",\n",
    "    \"SOURCE=\": \"cmcc\"\n",
    "}\n"
   ]
  },
  {
   "cell_type": "code",
   "execution_count": null,
   "id": "4142e087-0521-4f93-a9ef-3717a8cd24f9",
   "metadata": {},
   "outputs": [],
   "source": [
    "ds = e.to_xarray()"
   ]
  },
  {
   "cell_type": "code",
   "execution_count": null,
   "id": "81227a07-bced-4220-ac3f-35cf3061ba6d",
   "metadata": {},
   "outputs": [],
   "source": [
    "ds"
   ]
  },
  {
   "cell_type": "code",
   "execution_count": null,
   "id": "50fae9cf-3f09-4aec-942e-d085ffcfe24f",
   "metadata": {},
   "outputs": [],
   "source": [
    "var = 'ALTS'"
   ]
  },
  {
   "cell_type": "code",
   "execution_count": null,
   "id": "660bd980-7da8-4564-8b41-f87b171d81e3",
   "metadata": {},
   "outputs": [],
   "source": [
    "ds[var].hvplot(x='time', title=f'{var} from {e.constraints[\"PLATFORMCODE=\"]}', grid=True)"
   ]
  },
  {
   "cell_type": "markdown",
   "id": "0086bb2d-95cb-4bb0-85a7-12da9a50c485",
   "metadata": {},
   "source": [
    "### Extract data from a specific time period"
   ]
  },
  {
   "cell_type": "code",
   "execution_count": null,
   "id": "86ae731b-d528-4214-9a3c-414b902c3cb8",
   "metadata": {},
   "outputs": [],
   "source": [
    "e.constraints = {\n",
    "    \"time>=\": \"2025-05-10\",  \n",
    "    \"time<=\": \"2025-05-15\",\n",
    "    \"SENSOR=\": \"Radar\",\n",
    "    \"PLATFORMCODE=\": \"TG_CIV_01\",\n",
    "    \"SOURCE=\": \"cmcc\"\n",
    "}"
   ]
  },
  {
   "cell_type": "code",
   "execution_count": null,
   "id": "4453e912-4f66-4c14-aee0-3f3175969fcd",
   "metadata": {},
   "outputs": [],
   "source": [
    "ds = e.to_xarray()"
   ]
  },
  {
   "cell_type": "code",
   "execution_count": null,
   "id": "7c56e1e8-8cb6-47f6-816c-4238ec84d44c",
   "metadata": {},
   "outputs": [],
   "source": [
    "ds[var].hvplot(x='time', title=f'{var} from {e.constraints[\"PLATFORMCODE=\"]}', grid=True)"
   ]
  }
 ],
 "metadata": {
  "kernelspec": {
   "display_name": "Python 3 (ipykernel)",
   "language": "python",
   "name": "python3"
  },
  "language_info": {
   "codemirror_mode": {
    "name": "ipython",
    "version": 3
   },
   "file_extension": ".py",
   "mimetype": "text/x-python",
   "name": "python",
   "nbconvert_exporter": "python",
   "pygments_lexer": "ipython3",
   "version": "3.13.7"
  }
 },
 "nbformat": 4,
 "nbformat_minor": 5
}
