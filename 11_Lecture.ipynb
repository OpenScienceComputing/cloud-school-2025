{
 "cells": [
  {
   "cell_type": "markdown",
   "id": "139b42ed-3d8f-4a8b-9db9-62a711195ef5",
   "metadata": {},
   "source": [
    "<img src=\"./images/school_logo.png\" alt=\"School Logo\" width=\"300\">"
   ]
  },
  {
   "cell_type": "markdown",
   "id": "82c8a520-c267-4127-9507-b5003d5ef539",
   "metadata": {},
   "source": [
    "## Lecture 11: Chunks, Virtual Datasets and Forecast Model Run Collections\n",
    "\n",
    "Virtual datasets are metadata-only representations of data that don't store the actual data themselves. Instead, they contain references to data stored elsewhere, often stored as NetCDF, HDF, Geotiff and other traditional scientific data formats. \n",
    "\n",
    "This approach allows users to access, organize, and analyze data as if it were a single, coherent dataset without the need to physically copy or move the underlying data.\n",
    "\n",
    "Virtual datasets are particularly useful for large, distributed datasets that are difficult to manage and access using traditional methods. They enable faster access to data, reduce storage costs, and improve data governance by providing a single point of access to disparate data sources.\n",
    "\n",
    "Meteorological or Oceanographic Forecast Model Run Collection (FMRC) output has two main challenges -- the FMRC is updated periodically, and the forecast times between successive forecasts often overlap.\n",
    "\n",
    "* [Virtualizarr 2 Presentation by Max Jones](https://docs.google.com/presentation/d/1eQoxpvoL-d5ce9bp6chhP9ATS2El1I8sHzpnywIl1d4/edit?usp=sharing) (25 min)\n",
    "* [Cloud-Optimized Data Blog Post by Tom Nicholas](https://tom-nicholas.com/blog/2025/cloud-optimized-scientific-data/) (20 min)\n",
    "\n",
    "* [Rolodex: Using custom Xarray indices to explore FMRC](https://xarray-indexes.readthedocs.io/) (10 min)\n",
    "* [Icechunk: Appending and updating a FMRC](https://drive.google.com/file/d/1qUzRLOtDN2E_fCGntx5jTzUhFSeGFXWR/view) (10 min)\n",
    "* [Creating an Icechunk repo for SHYFEM](../../notebooks/taranto-icechunk-create.ipynb) (10 min)\n",
    "* [Appending to an Icechunk repo for SHYFEM](../../notebooks/taranto-icechunk-append.ipynb) (10 min)\n",
    "* [Reading the Icechunk repo for SHYFEM](../../notebooks/taranto-icechunk-FMRC.ipynb) (5 min)"
   ]
  },
  {
   "cell_type": "markdown",
   "id": "4df01b87-8536-4a12-bbcb-d99fd9a2c858",
   "metadata": {},
   "source": [
    "For more info on Icechunk:  [Lindsey Nield's Icechunk talk at ESIP 2025](https://drive.google.com/file/d/1qUzRLOtDN2E_fCGntx5jTzUhFSeGFXWR/view?usp=drive_link). "
   ]
  }
 ],
 "metadata": {
  "kernelspec": {
   "display_name": "Python 3 (ipykernel)",
   "language": "python",
   "name": "python3"
  },
  "language_info": {
   "codemirror_mode": {
    "name": "ipython",
    "version": 3
   },
   "file_extension": ".py",
   "mimetype": "text/x-python",
   "name": "python",
   "nbconvert_exporter": "python",
   "pygments_lexer": "ipython3",
   "version": "3.12.11"
  },
  "widgets": {
   "application/vnd.jupyter.widget-state+json": {
    "state": {},
    "version_major": 2,
    "version_minor": 0
   }
  }
 },
 "nbformat": 4,
 "nbformat_minor": 5
}
