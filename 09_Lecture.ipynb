{
 "cells": [
  {
   "cell_type": "markdown",
   "id": "82c8a520-c267-4127-9507-b5003d5ef539",
   "metadata": {},
   "source": [
    "## Lecture 9: Introduction to Dask\n",
    "\n",
    "Dask is an open-source Python library for parallel computing. It's designed to scale your existing Python code and libraries, like Pandas, NumPy, and scikit-learn, from a single machine with multiple cores to a large distributed cluster.\n",
    "\n",
    "\n",
    "The core idea behind Dask is to handle datasets that are too large to fit into a computer's memory. It does this by breaking down large datasets and computations into smaller, manageable tasks that can be processed in parallel. It uses a dynamic task scheduler to manage and execute these tasks efficiently.\n",
    "\n",
    "* [Julius AMS Demo](./hvplot_tutorial.ipynb) (25 min)\n",
    "* [COAWST Explorer](./COAWST_explore.ipynb) (20 min)\n"
   ]
  }
 ],
 "metadata": {
  "kernelspec": {
   "display_name": "Python 3 (ipykernel)",
   "language": "python",
   "name": "python3"
  },
  "language_info": {
   "codemirror_mode": {
    "name": "ipython",
    "version": 3
   },
   "file_extension": ".py",
   "mimetype": "text/x-python",
   "name": "python",
   "nbconvert_exporter": "python",
   "pygments_lexer": "ipython3",
   "version": "3.13.7"
  },
  "widgets": {
   "application/vnd.jupyter.widget-state+json": {
    "state": {},
    "version_major": 2,
    "version_minor": 0
   }
  }
 },
 "nbformat": 4,
 "nbformat_minor": 5
}
