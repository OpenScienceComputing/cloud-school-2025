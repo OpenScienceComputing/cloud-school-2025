{
 "cells": [
  {
   "cell_type": "markdown",
   "id": "82c8a520-c267-4127-9507-b5003d5ef539",
   "metadata": {},
   "source": [
    "## Lecture 5: Introduction to Xarray\n",
    "\n",
    "Xarray is a Python library that provides powerful tools for working with multi-dimensional labeled arrays. It extends the functionality of NumPy and makes it easier to handle science and engineering datasets by associating coordinates and metadata with the data itself, using the NetCDF data model. \n",
    "\n",
    "* [Xarray Tutorial Notebook](./xarray_tutorial.ipynb) (45 min)"
   ]
  }
 ],
 "metadata": {
  "kernelspec": {
   "display_name": "Python 3 (ipykernel)",
   "language": "python",
   "name": "python3"
  },
  "language_info": {
   "codemirror_mode": {
    "name": "ipython",
    "version": 3
   },
   "file_extension": ".py",
   "mimetype": "text/x-python",
   "name": "python",
   "nbconvert_exporter": "python",
   "pygments_lexer": "ipython3",
   "version": "3.13.7"
  },
  "widgets": {
   "application/vnd.jupyter.widget-state+json": {
    "state": {},
    "version_major": 2,
    "version_minor": 0
   }
  }
 },
 "nbformat": 4,
 "nbformat_minor": 5
}
