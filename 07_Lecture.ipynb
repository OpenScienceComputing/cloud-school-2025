{
 "cells": [
  {
   "cell_type": "markdown",
   "id": "82c8a520-c267-4127-9507-b5003d5ef539",
   "metadata": {},
   "source": [
    "## Lecture 7: Cloud Data and APIs\n",
    "\n",
    "When we work on the Cloud, we avoid the traditional method of downloading files, and instead extract just the data we need from Cloud object storage or Data Service APIs\n",
    "* [Working with Cloud Object Storage](./object_storage_tutorial.ipynb) (15 min)\n",
    "* Working with Copernicus API (15 min)\n",
    "  * [Model Output](./copernicus_marine_model.ipynb)\n",
    "  * [Insitu Data](./copernicus_marine_insitu.ipynb)\n",
    "  * [Earth Observation data](./copernicus_marine_EO.ipynb)\n",
    "* [Working with THREDDS API](./socib-wmop-best.ipynb) (5 min)\n",
    "* [Working with ERDDAP API](./erddap_sensor_data.ipynb) (10 min)\n"
   ]
  },
  {
   "cell_type": "code",
   "execution_count": null,
   "id": "1724374e-bbf2-45fa-9c8d-35fbb40f525b",
   "metadata": {},
   "outputs": [],
   "source": []
  }
 ],
 "metadata": {
  "kernelspec": {
   "display_name": "Python 3 (ipykernel)",
   "language": "python",
   "name": "python3"
  },
  "language_info": {
   "codemirror_mode": {
    "name": "ipython",
    "version": 3
   },
   "file_extension": ".py",
   "mimetype": "text/x-python",
   "name": "python",
   "nbconvert_exporter": "python",
   "pygments_lexer": "ipython3",
   "version": "3.13.7"
  },
  "widgets": {
   "application/vnd.jupyter.widget-state+json": {
    "state": {},
    "version_major": 2,
    "version_minor": 0
   }
  }
 },
 "nbformat": 4,
 "nbformat_minor": 5
}
