{
 "cells": [
  {
   "cell_type": "markdown",
   "id": "880ebfc7-db5c-4eb9-84c6-8e9101fbf972",
   "metadata": {},
   "source": [
    "# Explore SOCIB Model Output\n",
    "* Access data from the SOCIB THREDDS Server using OpenDAP\n",
    "* Visualize and explore with Holoviz\n",
    "* Compare to observational data at a specific time step"
   ]
  },
  {
   "cell_type": "code",
   "execution_count": null,
   "id": "97e207fd-3013-4847-9bd7-eb3b57213574",
   "metadata": {},
   "outputs": [],
   "source": [
    "import xarray as xr\n",
    "import hvplot.xarray\n",
    "from datetime import datetime\n",
    "import panel as pn"
   ]
  },
  {
   "cell_type": "code",
   "execution_count": null,
   "id": "34f757c6-a909-4cc8-aa41-0ac8326efaef",
   "metadata": {},
   "outputs": [],
   "source": [
    "import pandas as pd\n",
    "\n",
    "# Get the current date and time\n",
    "stop_time= pd.Timestamp.now()\n",
    "\n",
    "# Subtract 10 days using pd.DateOffset\n",
    "start_time = stop_time - pd.DateOffset(days=3)\n",
    "\n",
    "print(f\"Start Time: {start_time}\")\n",
    "print(f\"Stop Time: {stop_time}\")"
   ]
  },
  {
   "cell_type": "code",
   "execution_count": null,
   "id": "582ed332-6fba-4631-a3df-bee7e590579a",
   "metadata": {},
   "outputs": [],
   "source": [
    "dap_url = 'http://thredds.socib.es/thredds/dodsC/operational_models/oceanographical/hydrodynamics/model_run_aggregation/wmop_surface/wmop_surface_best.ncd'"
   ]
  },
  {
   "cell_type": "code",
   "execution_count": null,
   "id": "b958cf1f-ec99-42d4-b8da-b13dae2ce921",
   "metadata": {},
   "outputs": [],
   "source": [
    "ds = xr.open_dataset(dap_url)"
   ]
  },
  {
   "cell_type": "code",
   "execution_count": null,
   "id": "144bfa1b-4961-4667-93b4-87d45360df8e",
   "metadata": {},
   "outputs": [],
   "source": [
    "cmin = 18\n",
    "cmax = 30"
   ]
  },
  {
   "cell_type": "code",
   "execution_count": null,
   "id": "37675f4a-783c-4261-aa49-541478d034f0",
   "metadata": {
    "scrolled": true
   },
   "outputs": [],
   "source": [
    "%%time\n",
    "da = ds['temp'].sel(time=slice(start_time,stop_time)).load()\n",
    "mod_viz = da.hvplot.quadmesh(x='lon_rho', y='lat_rho', rasterize=True, \n",
    "                             cmap='turbo', geo=True, tiles='OSM', clim=(cmin, cmax),\n",
    "                            widgets={'time': pn.widgets.Select})"
   ]
  },
  {
   "cell_type": "code",
   "execution_count": null,
   "id": "848d6c05-979a-4177-b550-12cfcb093ae9",
   "metadata": {},
   "outputs": [],
   "source": [
    "mod_viz"
   ]
  },
  {
   "cell_type": "markdown",
   "id": "d4a2f3f1-846c-4f40-b708-49ec9389fabd",
   "metadata": {},
   "source": [
    "## Load sensor data"
   ]
  },
  {
   "cell_type": "code",
   "execution_count": null,
   "id": "5170b88c-98b7-4c3d-89da-890ccb722105",
   "metadata": {},
   "outputs": [],
   "source": [
    "import copernicusmarine\n",
    "import hvplot.pandas"
   ]
  },
  {
   "cell_type": "code",
   "execution_count": null,
   "id": "fb50346a-15d9-44bd-b71c-f4b604909b09",
   "metadata": {},
   "outputs": [],
   "source": [
    "lon_range = [ds['lon_rho'].min().values, ds['lon_rho'].max().values]\n",
    "lat_range = [ds['lat_rho'].min().values, ds['lat_rho'].max().values]"
   ]
  },
  {
   "cell_type": "code",
   "execution_count": null,
   "id": "a98a8504-b5d9-4b1d-bde4-08f8f342fed1",
   "metadata": {},
   "outputs": [],
   "source": [
    "var='TEMP'\n",
    "# Load xarray dataset\n",
    "df = copernicusmarine.read_dataframe(\n",
    "    dataset_id=\"cmems_obs-ins_med_phybgcwav_mynrt_na_irr\",\n",
    "    dataset_part=\"latest\",\n",
    "    variables=[var],\n",
    "    start_datetime=start_time,\n",
    "    end_datetime=stop_time,\n",
    "    minimum_longitude = lon_range[0],\n",
    "    maximum_longitude = lon_range[1],\n",
    "    minimum_latitude = lat_range[0],\n",
    "    maximum_latitude = lat_range[1],\n",
    ")"
   ]
  },
  {
   "cell_type": "code",
   "execution_count": null,
   "id": "1c66c6bf-95f4-411d-9465-b541de59c1bf",
   "metadata": {},
   "outputs": [],
   "source": [
    "import pandas as pd\n",
    "import numpy as np\n",
    "\n",
    "def find_closest_data(df, time, depth, depth_window):\n",
    "    \"\"\"\n",
    "    Finds the closest data points in a DataFrame based on time and depth,\n",
    "    within a specified depth window.\n",
    "\n",
    "    Args:\n",
    "        df (pd.DataFrame): The input DataFrame.\n",
    "        time (pd.Timestamp or datetime): The target time.\n",
    "        depth (float): The target depth.\n",
    "        depth_window (float): The window (plus or minus) to filter the data by depth.\n",
    "\n",
    "    Returns:\n",
    "        pd.DataFrame: A DataFrame with the closest data points for each institution,\n",
    "                      within the specified depth window.\n",
    "    \"\"\"\n",
    "    df['time'] = pd.to_datetime(df['time'])\n",
    "\n",
    "    # Handle timezone differences\n",
    "    if df['time'].dt.tz is not None:\n",
    "        if pd.to_datetime(time).tz is None:\n",
    "            time = pd.to_datetime(time).tz_localize(df['time'].dt.tz)\n",
    "\n",
    "    # Filter the DataFrame to include only data within the depth window\n",
    "    min_depth = depth - depth_window\n",
    "    max_depth = depth + depth_window\n",
    "    filtered_df = df[(df['depth'] >= min_depth) & (df['depth'] <= max_depth)].copy()\n",
    "\n",
    "    # If no data is found within the window, return an empty DataFrame\n",
    "    if filtered_df.empty:\n",
    "        return pd.DataFrame(columns=df.columns)\n",
    "\n",
    "    # Calculate time and depth differences on the filtered data\n",
    "    filtered_df['time_diff'] = np.abs(filtered_df['time'] - pd.to_datetime(time))\n",
    "    \n",
    "    # Sort by time difference to find the closest time for each institution\n",
    "    df_sorted_time = filtered_df.sort_values(by=['time_diff', 'institution'])\n",
    "\n",
    "    closest_data = []\n",
    "    for institution in df_sorted_time['institution'].unique():\n",
    "        inst_df = df_sorted_time[df_sorted_time['institution'] == institution]\n",
    "        \n",
    "        # Get the row with the minimum time difference\n",
    "        closest_time_row = inst_df.iloc[0].copy()\n",
    "        \n",
    "        # Find all rows with that same minimum time difference\n",
    "        all_closest_time_rows = inst_df[inst_df['time_diff'] == closest_time_row['time_diff']].copy()\n",
    "        \n",
    "        # Find the one with the closest depth\n",
    "        all_closest_time_rows['depth_diff'] = np.abs(all_closest_time_rows['depth'] - depth)\n",
    "        closest_row = all_closest_time_rows.loc[all_closest_time_rows['depth_diff'].idxmin()]\n",
    "        \n",
    "        closest_data.append(closest_row)\n",
    "        \n",
    "    result_df = pd.DataFrame(closest_data)\n",
    "    \n",
    "    # Clean up temporary columns\n",
    "    result_df = result_df.drop(columns=['time_diff', 'depth_diff'], errors='ignore')\n",
    "    \n",
    "    return result_df"
   ]
  },
  {
   "cell_type": "code",
   "execution_count": null,
   "id": "f874878b-a437-4adf-a8bf-d0ff809fdbb3",
   "metadata": {},
   "outputs": [],
   "source": [
    "compare_time = stop_time\n",
    "#compare_time = '2025-10-6 00:00'\n",
    "depth = 0\n",
    "depth_window = 4\n",
    "print(time)"
   ]
  },
  {
   "cell_type": "code",
   "execution_count": null,
   "id": "cc7e8651-4128-4b8d-9264-e7109c8bb7d6",
   "metadata": {},
   "outputs": [],
   "source": [
    "df0  = find_closest_data(df, compare_time, depth, depth_window)"
   ]
  },
  {
   "cell_type": "code",
   "execution_count": null,
   "id": "b9c66e5a-ba62-4c3e-9fb3-2de15f7c8bba",
   "metadata": {},
   "outputs": [],
   "source": [
    "df0"
   ]
  },
  {
   "cell_type": "code",
   "execution_count": null,
   "id": "9d53e412-dca3-4841-a71c-e1a8f1aeab3b",
   "metadata": {},
   "outputs": [],
   "source": [
    "import pandas as pd\n",
    "import hvplot.pandas  # This registers the .hvplot accessor on pandas DataFrames\n",
    "\n",
    "def plot_data_on_map_hvplot(df, color_column):\n",
    "    \"\"\"\n",
    "    Plots a DataFrame on a map using hvplot.\n",
    "\n",
    "    Args:\n",
    "        df (pd.DataFrame): The input DataFrame.\n",
    "        color_column (str): The name of the column to use for coloring the dots.\n",
    "\n",
    "    Returns:\n",
    "        holoviews.core.overlay.Overlay: A HoloViews object representing the map plot.\n",
    "    \"\"\"\n",
    "    # Use the hvplot.points method to create the plot\n",
    "    map_plot = df.hvplot.points(\n",
    "        x='longitude',\n",
    "        y='latitude',\n",
    "        geo=True,             # This tells hvplot to treat the data as geographic\n",
    "        tiles='OSM',          # Use OpenStreetMap as the background tile source\n",
    "        c=color_column,       # Color the points by the specified column\n",
    "        hover_cols=[color_column, 'institution', 'time'],  # Add a hover tool to show data\n",
    "        title=f\"Data Locations by {color_column.capitalize()}\",\n",
    "        size=40,\n",
    "        clim=(cmin, cmax),\n",
    "        line_color='black',\n",
    "        cmap='turbo'\n",
    "    )\n",
    "    \n",
    "    return map_plot\n",
    "\n",
    "# Example usage:\n",
    "# Assuming 'filtered_df' is your DataFrame after filtering and 'value' is the column to color by.\n",
    "# plot_data_on_map_hvplot(filtered_df, 'value')"
   ]
  },
  {
   "cell_type": "code",
   "execution_count": null,
   "id": "2e53c2e3-19be-4437-b3d1-e3a7dd7d4429",
   "metadata": {},
   "outputs": [],
   "source": [
    "obs_viz = plot_data_on_map_hvplot(df0, 'value')"
   ]
  },
  {
   "cell_type": "code",
   "execution_count": null,
   "id": "fb231608-ee97-403c-b5cd-bf4fe964eabb",
   "metadata": {},
   "outputs": [],
   "source": [
    "da = ds['temp'].sel(time=compare_time, method='nearest').load()\n",
    "mod_viz = da.hvplot.quadmesh(x='lon_rho', y='lat_rho', rasterize=True, \n",
    "                             cmap='turbo', geo=True, tiles='OSM', clim=(cmin, cmax))"
   ]
  },
  {
   "cell_type": "code",
   "execution_count": null,
   "id": "b9384f93-3297-4207-a06c-219446e3707a",
   "metadata": {},
   "outputs": [],
   "source": [
    "mod_viz * obs_viz"
   ]
  }
 ],
 "metadata": {
  "kernelspec": {
   "display_name": "Python 3 (ipykernel)",
   "language": "python",
   "name": "python3"
  },
  "language_info": {
   "codemirror_mode": {
    "name": "ipython",
    "version": 3
   },
   "file_extension": ".py",
   "mimetype": "text/x-python",
   "name": "python",
   "nbconvert_exporter": "python",
   "pygments_lexer": "ipython3",
   "version": "3.13.7"
  }
 },
 "nbformat": 4,
 "nbformat_minor": 5
}
