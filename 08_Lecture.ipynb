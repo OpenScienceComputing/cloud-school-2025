{
 "cells": [
  {
   "cell_type": "markdown",
   "id": "82c8a520-c267-4127-9507-b5003d5ef539",
   "metadata": {},
   "source": [
    "## Lecture 8: Holoviz for Data Visualization and Exploration\n",
    "\n",
    "The HoloViz collection is a suite of open-source Python tools designed to make data visualization easier and more powerful, particularly for scientific and big data applications. These tools are built to be interoperable, allowing users to move seamlessly from exploratory data analysis to creating and deploying interactive dashboards.\n",
    "\n",
    "* [Hvplot tutorial notebook](./hvplot_tutorial.ipynb) (25 min)\n",
    "* [NEMO visualization notebook](./nemo_copernicusmarine.ipynb) (10 min)\n",
    "* [SHYFEM explorer notebook](./explore_shyfem.ipynb) (10 min)"
   ]
  }
 ],
 "metadata": {
  "kernelspec": {
   "display_name": "Python 3 (ipykernel)",
   "language": "python",
   "name": "python3"
  },
  "language_info": {
   "codemirror_mode": {
    "name": "ipython",
    "version": 3
   },
   "file_extension": ".py",
   "mimetype": "text/x-python",
   "name": "python",
   "nbconvert_exporter": "python",
   "pygments_lexer": "ipython3",
   "version": "3.13.7"
  },
  "widgets": {
   "application/vnd.jupyter.widget-state+json": {
    "state": {},
    "version_major": 2,
    "version_minor": 0
   }
  }
 },
 "nbformat": 4,
 "nbformat_minor": 5
}
