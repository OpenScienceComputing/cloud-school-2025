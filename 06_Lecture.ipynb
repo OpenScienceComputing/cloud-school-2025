{
 "cells": [
  {
   "cell_type": "markdown",
   "id": "82c8a520-c267-4127-9507-b5003d5ef539",
   "metadata": {},
   "source": [
    "## Lecture 6: Building environments and coding in Python\n",
    "\n",
    "There are many ways to build reproducible software environments for Python and many tools to help write Python code.  Here we will discuss using Conda for creating environments, and JupyterLab, VSCode and Gemini for creating code. \n",
    "\n",
    "* Python, Pip and Conda, Conda environment files (15 min)\n",
    "* Jupyterlab IDE (10 min)\n",
    "* VSCode IDE (10 min)\n",
    "* Gemini LLM (10 min)"
   ]
  },
  {
   "cell_type": "markdown",
   "id": "5aff9a46-b9be-4e5c-b700-545189c2b141",
   "metadata": {},
   "source": [
    "## Installing Python\n",
    "We are using the [Pangeo@EOSC JupyterHub](https://pangeo-eosc.vm.fedcloud.eu/) for this class, but if you want to install Python on your computer, [Micromamba](https://mamba.readthedocs.io/en/latest/installation/micromamba-installation.html) is generally considered an excellent and safe choice for installing Python and managing environments without the licensing concerns associated with the default channels in commercial Python distributions like Anaconda or standard Miniconda."
   ]
  },
  {
   "cell_type": "markdown",
   "id": "58f37800-6959-442f-a9ad-20dbc77cae4c",
   "metadata": {},
   "source": [
    "## Creating Python Environments\n",
    "Using [conda environment files](https://docs.conda.io/projects/conda/en/latest/user-guide/tasks/manage-environments.html#creating-an-environment-from-an-environment-yml-file) is the best way to create and maintain an environment. \n",
    "\n",
    "Here is the conda [environment.yml](https://github.com/CMCC-Foundation/protocoast-notebook/blob/develop/ci/environment.yml) we are using for our `quay.io/globalcoast/protocoast-notebook:develop` image. "
   ]
  },
  {
   "cell_type": "markdown",
   "id": "7784e0a9-99da-40c3-8870-e4161e5773f4",
   "metadata": {},
   "source": [
    "## Coding in the JupyterLab environment\n",
    "JupyterLab offers a flexible and powerful environment for writing and executing Python code, often serving as a de facto IDE for data science and interactive computing. While not a traditional IDE like PyCharm or VS Code, its interface, composed of integrated notebooks, consoles, terminals, and a file browser, allows for a unique, highly iterative workflow. Users can write, test, and document code seamlessly within the same notebook document, executing cells individually and viewing output, plots, or dataframe previews immediately below the code. This blend of interactive computing, code editing, and rich output visualization makes JupyterLab exceptionally well-suited for exploratory data analysis, machine learning prototyping, and developing educational materials."
   ]
  },
  {
   "cell_type": "markdown",
   "id": "cc211dd9-ea9e-49a8-be18-7a606c8b550f",
   "metadata": {},
   "source": [
    "## Coding in VSCode \n",
    "Visual Studio Code (VS Code) has emerged as an exceptionally popular and versatile Integrated Development Environment (IDE) for Python, largely thanks to its extensive set of extensions. The core strength of VS Code for Python development lies in its ability to offer a lightweight yet full-featured experience, including sophisticated features like intelligent code completion (IntelliSense), debugging with breakpoints, and integrated version control via Git. Furthermore, it supports features essential for modern Python workflows, such as managing virtual environments, running test frameworks, and most importantly, integrating directly with Jupyter notebooks and interactive Python consoles. This seamless integration and customization via extensions make it an efficient and comfortable environment for projects ranging from small scripts to large-scale applications."
   ]
  },
  {
   "cell_type": "markdown",
   "id": "1cdc9601-59b5-4342-a8f1-2c01b507d3fc",
   "metadata": {},
   "source": [
    "## Coding with LLM assistants (ChatGPT, Claude, Grok, Gemini)\n",
    "The power of using the LLMs like Gemini Code Assist extension in VS Code fundamentally shifts the development experience from reactive coding to proactive AI assistance. Integrated directly into the editor, Gemini provides instant, context-aware code completions as you type, and can generate entire functions or code blocks from simple natural language comments. Beyond generation, its true power lies in its transformation capabilities: developers can leverage \"smart actions\" and commands like /fix, /doc, and /simplify to automatically debug errors, generate comprehensive unit tests, or refactor complex code, all within a quick, integrated flow. This on-demand, deep understanding of the local codebase, combined with a conversational chat assistant, dramatically accelerates the development lifecycle, allowing programmers to minimize time spent on boilerplate and debugging and maximize focus on complex problem-solving."
   ]
  },
  {
   "cell_type": "code",
   "execution_count": null,
   "id": "5b5f8ebd-20f4-4159-ad86-5766b4d6dfe5",
   "metadata": {},
   "outputs": [],
   "source": []
  }
 ],
 "metadata": {
  "kernelspec": {
   "display_name": "Python 3 (ipykernel)",
   "language": "python",
   "name": "python3"
  },
  "language_info": {
   "codemirror_mode": {
    "name": "ipython",
    "version": 3
   },
   "file_extension": ".py",
   "mimetype": "text/x-python",
   "name": "python",
   "nbconvert_exporter": "python",
   "pygments_lexer": "ipython3",
   "version": "3.13.7"
  },
  "widgets": {
   "application/vnd.jupyter.widget-state+json": {
    "state": {},
    "version_major": 2,
    "version_minor": 0
   }
  }
 },
 "nbformat": 4,
 "nbformat_minor": 5
}
