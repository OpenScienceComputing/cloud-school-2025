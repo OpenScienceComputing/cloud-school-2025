{
 "cells": [
  {
   "cell_type": "markdown",
   "id": "7faf519f-df32-4236-94ea-a38fbc504ba5",
   "metadata": {},
   "source": [
    "# Cloud Native Satellite Data Demo 1\n",
    "* Use pystac_client to search the STAC API at Planetary Computer\n",
    "* Use odc.stac to load the data\n",
    "* Use hvplot to visualize the data"
   ]
  },
  {
   "cell_type": "code",
   "execution_count": null,
   "id": "c654820b-0fda-4479-bb16-f8832e9660e6",
   "metadata": {},
   "outputs": [],
   "source": [
    "import pystac_client\n",
    "import planetary_computer\n",
    "from rich.table import Table\n",
    "import hvplot.xarray\n",
    "\n",
    "# Connect to the Planetary Computer STAC API\n",
    "catalog = pystac_client.Client.open(\n",
    "    \"https://planetarycomputer.microsoft.com/api/stac/v1\",\n",
    "    modifier=planetary_computer.sign_inplace,\n",
    ")"
   ]
  },
  {
   "cell_type": "code",
   "execution_count": null,
   "id": "aa23585b-f620-4024-8942-f96676d99052",
   "metadata": {},
   "outputs": [],
   "source": [
    "collections = list(catalog.get_all_collections())\n",
    "collections.sort(key=lambda c: c.id)\n",
    "table = Table(\"ID\", \"Title\", title=\"Planetary Computer collections\")\n",
    "for collection in collections:\n",
    "    table.add_row(collection.id, collection.title)\n",
    "table"
   ]
  },
  {
   "cell_type": "code",
   "execution_count": null,
   "id": "8ba43860-8f98-4ca7-8466-8ffb69524a94",
   "metadata": {},
   "outputs": [],
   "source": [
    "# Define our area of interest (AOI) - a rough box around Cape Cod\n",
    "bbox = [-71.0, 41.5, -69.8, 42.2]"
   ]
  },
  {
   "cell_type": "code",
   "execution_count": null,
   "id": "e281f9dc-2029-4632-951e-0fe0c58fe236",
   "metadata": {},
   "outputs": [],
   "source": [
    "# Let's search for Sentinel-2 Level-2A data from this past summer\n",
    "# with minimal cloud cover.\n",
    "search = catalog.search(\n",
    "    collections=[\"sentinel-2-l2a\"],\n",
    "    bbox=bbox,\n",
    "    datetime=\"2025-08-01/2025-09-30\",\n",
    "    query={\"eo:cloud_cover\": {\"lt\": 10}}, # less than 10% clouds\n",
    ")\n",
    "\n",
    "# Get the results and see what we found\n",
    "items = search.item_collection()\n",
    "print(f\"Found {len(items)} scenes matching your criteria.\")\n",
    "\n",
    "# Let's inspect the assets of the first item to see the available data bands\n",
    "if items:\n",
    "    first_item = items[0]\n",
    "    print(\"\\nAssets for the first scene:\")\n",
    "    for asset_key, asset in first_item.assets.items():\n",
    "        print(f\"- {asset_key}: {asset.title}\")"
   ]
  },
  {
   "cell_type": "code",
   "execution_count": null,
   "id": "e41e41a2-b202-440b-9832-362721cbb470",
   "metadata": {},
   "outputs": [],
   "source": [
    "# Assuming 'items' is the ItemCollection from the first step\n",
    "from odc.stac import stac_load\n",
    "\n",
    "\n",
    "# Load the data using odc-stac.\n",
    "# Note that we specify the dask chunks as a dictionary.\n",
    "data_ds = stac_load(\n",
    "    items,\n",
    "    bands=[\"B04\", \"B03\", \"B02\", \"B08\"], # B04=Red, B03=Green, B02=Blue, B08=NIR\n",
    "    bbox=bbox,\n",
    "    resolution=10,\n",
    "    chunks={\"x\": 2048, \"y\": 2048},\n",
    ")\n",
    "\n",
    "# Let's inspect our new xarray Dataset.\n",
    "# Notice the \"Data variables\" section.\n",
    "print(data_ds)"
   ]
  },
  {
   "cell_type": "code",
   "execution_count": null,
   "id": "62858235-8edd-40d2-8fb2-190007e6a3a0",
   "metadata": {},
   "outputs": [],
   "source": [
    "import hvplot.xarray  # Make sure to import this to activate the .hvplot accessor\n",
    "import numpy as np\n",
    "\n",
    "# --- Step 1: Find the clearest scene (same as before) ---\n",
    "print(\"Finding the clearest available scene...\")\n",
    "valid_pixels = data_ds.B02.where(data_ds.B02 > 0).count(dim=[\"x\", \"y\"])\n",
    "best_time_slice = valid_pixels.argmax().compute()\n",
    "best_scene = data_ds.isel(time=best_time_slice)\n",
    "scene_date = np.datetime_as_string(best_scene.time.values, unit='D')\n",
    "print(f\"-> Found scene from: {scene_date}\")\n",
    "\n",
    "# --- Step 2: Prepare the RGB data (same as before) ---\n",
    "# The order B04, B03, B02 corresponds to Red, Green, Blue\n",
    "rgb = best_scene[[\"B04\", \"B03\", \"B02\"]].to_array(dim=\"band\")\n",
    "\n",
    "# --- Step 3: Scale the data for visualization (same as before) ---\n",
    "rgb_scaled = rgb.clip(0, 3000) / 3000"
   ]
  },
  {
   "cell_type": "code",
   "execution_count": null,
   "id": "d362900f-92b6-47b4-b622-e484419f6ec7",
   "metadata": {},
   "outputs": [],
   "source": [
    "source_crs = f\"{items[0].properties['proj:code']}\"\n",
    "source_crs"
   ]
  },
  {
   "cell_type": "code",
   "execution_count": null,
   "id": "c06b71ef-462e-49e4-9391-ba44524af431",
   "metadata": {},
   "outputs": [],
   "source": [
    "# --- Step 4: Plot with hvplot! ---\n",
    "print(\"Generating interactive plot...\")\n",
    "# The .hvplot.rgb method is specifically designed for this task.\n",
    "# The 'bands' argument tells it which dimension holds the R, G, B channels.\n",
    "image_plot = rgb_scaled.hvplot.rgb(\n",
    "    x='x',\n",
    "    y='y',\n",
    "    bands='band',\n",
    "    rasterize=True,    # Essential for good performance with large images\n",
    "    frame_width=600,\n",
    "    crs=source_crs,\n",
    "    geo=True,\n",
    "    flip_yaxis=False,   # not needed as hvplot figures this out\n",
    "    title=f\"{scene_date}\"\n",
    ")\n",
    "\n",
    "# In a Jupyter notebook, this will display the interactive plot automatically\n",
    "image_plot"
   ]
  }
 ],
 "metadata": {
  "kernelspec": {
   "display_name": "Python 3 (ipykernel)",
   "language": "python",
   "name": "python3"
  },
  "language_info": {
   "codemirror_mode": {
    "name": "ipython",
    "version": 3
   },
   "file_extension": ".py",
   "mimetype": "text/x-python",
   "name": "python",
   "nbconvert_exporter": "python",
   "pygments_lexer": "ipython3",
   "version": "3.13.7"
  }
 },
 "nbformat": 4,
 "nbformat_minor": 5
}
