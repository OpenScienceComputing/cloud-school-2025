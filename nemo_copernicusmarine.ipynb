{
 "cells": [
  {
   "cell_type": "markdown",
   "id": "b11b4fc8-c864-41f6-85f1-c07a3b27d8b2",
   "metadata": {},
   "source": [
    "# Copernicus Marine Service:  Access NEMO data\n",
    "* Need to have an account on Copernicus Marine\n",
    "* The ~/.netrc file contains the account credentials: your login and password for [Copernicus Marine](https://marine.copernicus.eu/)\n",
    "```\n",
    "$ more ~/.netrc\n",
    "machine auth.marine.copernicus.eu\n",
    "  login xxxxxxxxxx \n",
    "  password xxxxxxxxxxxxx\n",
    "```"
   ]
  },
  {
   "cell_type": "code",
   "execution_count": null,
   "id": "2cc9f8e3-9c52-4880-b718-76b64763fbae",
   "metadata": {},
   "outputs": [],
   "source": [
    "# ?copernicusmarine.open_dataset   # see options for this command"
   ]
  },
  {
   "cell_type": "code",
   "execution_count": null,
   "id": "6b25407d-0d9a-4bca-a70d-244a25622f37",
   "metadata": {},
   "outputs": [],
   "source": [
    "import copernicusmarine"
   ]
  },
  {
   "cell_type": "code",
   "execution_count": null,
   "id": "8606325f-4359-4306-8c8b-f59090237be5",
   "metadata": {},
   "outputs": [],
   "source": [
    "%%time\n",
    "ds = copernicusmarine.open_dataset(dataset_id='cmems_mod_med_phy-tem_anfc_4.2km-3D_PT1H-m')"
   ]
  },
  {
   "cell_type": "code",
   "execution_count": null,
   "id": "bfd9abcf-a36e-470d-9bbd-c5b64bf3db71",
   "metadata": {},
   "outputs": [],
   "source": [
    "ds"
   ]
  },
  {
   "cell_type": "code",
   "execution_count": null,
   "id": "5b356116-d203-4e80-9b7a-e990fec6ff6f",
   "metadata": {},
   "outputs": [],
   "source": [
    "import hvplot.xarray"
   ]
  },
  {
   "cell_type": "code",
   "execution_count": null,
   "id": "e2cbaa7d-6022-49a8-86cb-9bd9a1dff2dd",
   "metadata": {},
   "outputs": [],
   "source": [
    "%%time\n",
    "da = ds['thetao'].sel(depth=0, time='2025-05-01 00:00', method='nearest').load()"
   ]
  },
  {
   "cell_type": "code",
   "execution_count": null,
   "id": "71d12944-cb71-426e-9d8e-0f62043637e0",
   "metadata": {},
   "outputs": [],
   "source": [
    "da.nbytes/1e6   # MB"
   ]
  },
  {
   "cell_type": "code",
   "execution_count": null,
   "id": "a71c5942-da92-454e-820c-9f7edcf53bba",
   "metadata": {},
   "outputs": [],
   "source": [
    "da.hvplot(x='longitude', y='latitude', rasterize=True, geo=True, cmap='turbo', tiles='OSM')"
   ]
  },
  {
   "cell_type": "code",
   "execution_count": null,
   "id": "7b09c7a2-bd95-4147-8c44-3d3f8bdc79a9",
   "metadata": {},
   "outputs": [],
   "source": []
  }
 ],
 "metadata": {
  "kernelspec": {
   "display_name": "Python [conda env:base] *",
   "language": "python",
   "name": "conda-base-py"
  },
  "language_info": {
   "codemirror_mode": {
    "name": "ipython",
    "version": 3
   },
   "file_extension": ".py",
   "mimetype": "text/x-python",
   "name": "python",
   "nbconvert_exporter": "python",
   "pygments_lexer": "ipython3",
   "version": "3.11.9"
  },
  "widgets": {
   "application/vnd.jupyter.widget-state+json": {
    "state": {},
    "version_major": 2,
    "version_minor": 0
   }
  }
 },
 "nbformat": 4,
 "nbformat_minor": 5
}
