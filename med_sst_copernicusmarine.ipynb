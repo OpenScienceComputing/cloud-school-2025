{
 "cells": [
  {
   "cell_type": "markdown",
   "id": "b11b4fc8-c864-41f6-85f1-c07a3b27d8b2",
   "metadata": {},
   "source": [
    "# Copernicus Marine Service: Access Earth Observation Data\n",
    "* Need to have an account on Copernicus Marine\n",
    "* The ~/.netrc file contains the account credentials: your login and password for [Copernicus Marine](https://marine.copernicus.eu/)\n",
    "```\n",
    "$ more ~/.netrc\n",
    "machine auth.marine.copernicus.eu\n",
    "  login xxxxxxxxxx \n",
    "  password xxxxxxxxxxxxx\n",
    "```"
   ]
  },
  {
   "cell_type": "code",
   "execution_count": null,
   "id": "d7d34946-101a-4bed-9a44-a0566d8aee98",
   "metadata": {},
   "outputs": [],
   "source": [
    "import copernicusmarine\n",
    "import hvplot.xarray\n",
    "import warnings"
   ]
  },
  {
   "cell_type": "code",
   "execution_count": null,
   "id": "7311ac6d-a745-43a6-b422-1e339a66d566",
   "metadata": {},
   "outputs": [],
   "source": [
    "warnings.filterwarnings(\"ignore\", category=UserWarning)\n",
    "warnings.filterwarnings(\"ignore\", category=FutureWarning)"
   ]
  },
  {
   "cell_type": "code",
   "execution_count": null,
   "id": "f5f92b3d-5c1f-4035-9528-9a26d671971c",
   "metadata": {},
   "outputs": [],
   "source": [
    "dataset_id = 'SST_MED_SST_L3S_NRT_OBSERVATIONS_010_012_b'"
   ]
  },
  {
   "cell_type": "code",
   "execution_count": null,
   "id": "cb5cfbe8-624c-4323-867e-fc50258566fc",
   "metadata": {},
   "outputs": [],
   "source": [
    "ds = copernicusmarine.open_dataset(dataset_id)"
   ]
  },
  {
   "cell_type": "code",
   "execution_count": null,
   "id": "e2cbaa7d-6022-49a8-86cb-9bd9a1dff2dd",
   "metadata": {},
   "outputs": [],
   "source": [
    "%%time\n",
    "da = ds['adjusted_sea_surface_temperature'].sel(time='2025-08-01 16:00', method='nearest').load() - 273.15"
   ]
  },
  {
   "cell_type": "code",
   "execution_count": null,
   "id": "a71c5942-da92-454e-820c-9f7edcf53bba",
   "metadata": {},
   "outputs": [],
   "source": [
    "da.hvplot(x='longitude', y='latitude', rasterize=True, geo=True, cmap='turbo', tiles='OSM')"
   ]
  }
 ],
 "metadata": {
  "kernelspec": {
   "display_name": "Python 3 (ipykernel)",
   "language": "python",
   "name": "python3"
  },
  "language_info": {
   "codemirror_mode": {
    "name": "ipython",
    "version": 3
   },
   "file_extension": ".py",
   "mimetype": "text/x-python",
   "name": "python",
   "nbconvert_exporter": "python",
   "pygments_lexer": "ipython3",
   "version": "3.13.7"
  }
 },
 "nbformat": 4,
 "nbformat_minor": 5
}
