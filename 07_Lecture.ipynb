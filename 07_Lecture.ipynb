{
 "cells": [
  {
   "cell_type": "markdown",
   "id": "139b42ed-3d8f-4a8b-9db9-62a711195ef5",
   "metadata": {},
   "source": [
    "<img src=\"./images/school_logo.png\" alt=\"School Logo\" width=\"300\">"
   ]
  },
  {
   "cell_type": "markdown",
   "id": "82c8a520-c267-4127-9507-b5003d5ef539",
   "metadata": {},
   "source": [
    "## Lecture 7: Cloud Data and APIs\n",
    "\n",
    "When we work on the Cloud, we avoid the traditional method of downloading files, and instead extract just the data we need from Cloud object storage or Data Service APIs\n",
    "* [Working with Cloud Object Storage](./object_storage_tutorial.ipynb) (15 min)\n",
    "* [Working with THREDDS API](./cmems_sensors.ipynb) (10 min)\n",
    "* [Working with ERDDAP API](./erddap_sensor_data.ipynb) (10 min)\n",
    "* [Working with Copernicus API](./med_sst_copernicusmarine.ipynb) (10 min)"
   ]
  },
  {
   "cell_type": "code",
   "execution_count": null,
   "id": "dbff0937-d155-4e71-a9e8-79823c5f0e47",
   "metadata": {},
   "outputs": [],
   "source": []
  }
 ],
 "metadata": {
  "kernelspec": {
   "display_name": "Python [conda env:pangeo_z3]",
   "language": "python",
   "name": "conda-env-pangeo_z3-py"
  },
  "language_info": {
   "codemirror_mode": {
    "name": "ipython",
    "version": 3
   },
   "file_extension": ".py",
   "mimetype": "text/x-python",
   "name": "python",
   "nbconvert_exporter": "python",
   "pygments_lexer": "ipython3",
   "version": "3.12.11"
  },
  "widgets": {
   "application/vnd.jupyter.widget-state+json": {
    "state": {},
    "version_major": 2,
    "version_minor": 0
   }
  }
 },
 "nbformat": 4,
 "nbformat_minor": 5
}
