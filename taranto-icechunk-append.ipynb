{
 "cells": [
  {
   "cell_type": "markdown",
   "id": "120903d6-ea52-4a1e-83d2-4d434ad2cb98",
   "metadata": {},
   "source": [
    "# Appending to an Icechunk Store with Virtual References\n",
    "This notebook demonstrates how to append to an icechunk store."
   ]
  },
  {
   "cell_type": "code",
   "execution_count": null,
   "id": "bb8e160e-4f80-43bd-a9aa-b8b02252a1fa",
   "metadata": {},
   "outputs": [],
   "source": [
    "import os\n",
    "\n",
    "import fsspec\n",
    "import icechunk\n",
    "\n",
    "import xarray as xr\n",
    "from obstore.store import from_url\n",
    "\n",
    "from virtualizarr import open_virtual_dataset\n",
    "from virtualizarr.parsers import HDFParser\n",
    "from virtualizarr.registry import ObjectStoreRegistry"
   ]
  },
  {
   "cell_type": "code",
   "execution_count": null,
   "id": "2f69f0bb-316b-452c-b1ba-4d7ef4afcf67",
   "metadata": {},
   "outputs": [],
   "source": [
    "import warnings\n",
    "warnings.filterwarnings(\"ignore\", category=UserWarning)"
   ]
  },
  {
   "cell_type": "code",
   "execution_count": null,
   "id": "e58fdf64-cb96-47bc-87d0-b78e197b24c4",
   "metadata": {},
   "outputs": [],
   "source": [
    "import virtualizarr\n",
    "print(icechunk.__version__)\n",
    "print(virtualizarr.__version__)"
   ]
  },
  {
   "cell_type": "code",
   "execution_count": null,
   "id": "ee7c471c-b12e-4eed-86fb-e874ff47437c",
   "metadata": {},
   "outputs": [],
   "source": [
    "# load AWS credentials for Pangeo-EOSC storage as environment vars\n",
    "from dotenv import load_dotenv\n",
    "_ = load_dotenv(f'{os.environ['HOME']}/dotenv/school_2025.env')\n",
    "\n",
    "username = os.environ['JUPYTERHUB_USER']\n",
    "\n",
    "# Define storage\n",
    "storage_endpoint = 'https://pangeo-eosc-minioapi.vm.fedcloud.eu'\n",
    "data_bucket = 'rsignell4-protocoast'\n",
    "storage_bucket = 'protocoast-school-2025'\n",
    "storage_name = f'{username}-taranto'"
   ]
  },
  {
   "cell_type": "code",
   "execution_count": null,
   "id": "6cabdcee-5dbc-4844-88b9-8994d06c3232",
   "metadata": {},
   "outputs": [],
   "source": [
    "fs = fsspec.filesystem('s3', anon=False, endpoint_url=storage_endpoint)\n",
    "flist = fs.glob(f'{data_bucket}/full_dataset/shyfem/taranto/forecast/*/*nos*.nc')\n",
    "flist = [f's3://{f}' for f in flist]"
   ]
  },
  {
   "cell_type": "code",
   "execution_count": null,
   "id": "20bc62e0-3b90-4028-8c59-fe772340f707",
   "metadata": {},
   "outputs": [],
   "source": [
    "print(len(flist))\n",
    "print(flist[-1])"
   ]
  },
  {
   "cell_type": "markdown",
   "id": "5f235fc4",
   "metadata": {},
   "source": [
    "### Define our Virtualizarr `Parser` and `ObjectStoreRegistry`"
   ]
  },
  {
   "cell_type": "code",
   "execution_count": null,
   "id": "a343e5b1",
   "metadata": {},
   "outputs": [],
   "source": [
    "bucket = f\"s3://{data_bucket}\"\n",
    "store = from_url(bucket, region=\"not-used\", endpoint=storage_endpoint)\n",
    "registry = ObjectStoreRegistry({bucket: store})\n",
    "parser = HDFParser()"
   ]
  },
  {
   "cell_type": "markdown",
   "id": "73ceb93b-b0ac-48b2-928a-84da0d2019ac",
   "metadata": {},
   "source": [
    "## Create virtual datasets with VirtualiZarr's `open_virtual_dataset`"
   ]
  },
  {
   "cell_type": "code",
   "execution_count": null,
   "id": "5f1f6494-be91-47b5-b6bb-95710d58b16c",
   "metadata": {},
   "outputs": [],
   "source": [
    "ds_list = [\n",
    "    open_virtual_dataset(\n",
    "        url=url,\n",
    "        parser=parser,\n",
    "        registry=registry,\n",
    "        loadable_variables=[\"time\"],\n",
    "    )\n",
    "    for url in flist[-1:]\n",
    "]"
   ]
  },
  {
   "cell_type": "code",
   "execution_count": null,
   "id": "7c5a62ad-fdda-472a-a1e7-b34610580af4",
   "metadata": {},
   "outputs": [],
   "source": [
    "print(flist[-1])"
   ]
  },
  {
   "cell_type": "code",
   "execution_count": null,
   "id": "0d890d9b-df7f-438b-9330-33dd4813bb49",
   "metadata": {},
   "outputs": [],
   "source": [
    "def fix_ds(ds):\n",
    "    ds = ds.rename_vars(time='valid_time')\n",
    "    ds = ds.rename_dims(time='step')\n",
    "    step = (ds.valid_time - ds.valid_time[0]).assign_attrs({\"standard_name\": \"forecast_period\"})\n",
    "    time = ds.valid_time[0].assign_attrs({\"standard_name\": \"forecast_reference_time\"})\n",
    "    ds = ds.assign_coords(step=step, time=time)\n",
    "    ds = ds.drop_indexes(\"valid_time\")\n",
    "    ds = ds.drop_vars('valid_time')\n",
    "    return ds"
   ]
  },
  {
   "cell_type": "code",
   "execution_count": null,
   "id": "9b45d73e-3f23-4b88-b7cf-9c302a8e9f54",
   "metadata": {},
   "outputs": [],
   "source": [
    "ds_list = [fix_ds(ds) for ds in ds_list]"
   ]
  },
  {
   "cell_type": "code",
   "execution_count": null,
   "id": "d54f7829-4c61-4237-8b69-c6faaa017b09",
   "metadata": {},
   "outputs": [],
   "source": [
    "combined_nos = xr.concat(\n",
    "    ds_list,\n",
    "    dim=\"time\",\n",
    "    coords=\"minimal\",\n",
    "    compat=\"override\",\n",
    "    combine_attrs=\"override\",\n",
    ")"
   ]
  },
  {
   "cell_type": "code",
   "execution_count": null,
   "id": "cdab5898-2a15-4e00-ab43-270dbc08134e",
   "metadata": {},
   "outputs": [],
   "source": [
    "flist = fs.glob(f'{data_bucket}/full_dataset/shyfem/taranto/forecast/*/*ous*.nc')\n",
    "flist = [f's3://{f}' for f in flist]"
   ]
  },
  {
   "cell_type": "code",
   "execution_count": null,
   "id": "c5bbd24a-ad20-4e03-9196-e2957e079092",
   "metadata": {},
   "outputs": [],
   "source": [
    "ds_list = [\n",
    "    open_virtual_dataset(\n",
    "        url=url,\n",
    "        parser=parser,\n",
    "        registry=registry,\n",
    "        loadable_variables=[\"time\"],\n",
    "    )\n",
    "    for url in flist[-1:]\n",
    "]"
   ]
  },
  {
   "cell_type": "code",
   "execution_count": null,
   "id": "651f7ac9-b7da-4aa7-a4e8-d437eebb33e9",
   "metadata": {},
   "outputs": [],
   "source": [
    "print(flist[-1])"
   ]
  },
  {
   "cell_type": "code",
   "execution_count": null,
   "id": "1910eac3-97b3-4dc0-82b6-df4fc32b0e8f",
   "metadata": {},
   "outputs": [],
   "source": [
    "ds_list = [fix_ds(ds) for ds in ds_list]"
   ]
  },
  {
   "cell_type": "code",
   "execution_count": null,
   "id": "e021f745-7760-41a4-aae3-fae1bccf0244",
   "metadata": {},
   "outputs": [],
   "source": [
    "combined_ous = xr.concat(\n",
    "    ds_list,\n",
    "    dim=\"time\",\n",
    "    coords=\"minimal\",\n",
    "    compat=\"override\",\n",
    "    combine_attrs=\"override\",\n",
    ")"
   ]
  },
  {
   "cell_type": "code",
   "execution_count": null,
   "id": "a6159c0b-0eed-4cad-af72-a8fccc82bec1",
   "metadata": {},
   "outputs": [],
   "source": [
    "ds = xr.merge([combined_nos, combined_ous], compat='override')"
   ]
  },
  {
   "cell_type": "markdown",
   "id": "05f41a0b-6292-419d-a9d3-d8ddf8c0c15b",
   "metadata": {},
   "source": [
    "## Initialize the Icechunk Store\n",
    "We need configure the `virtual_chunk_container` as make sure the icechunk container credentials allow for anonymous access. \n",
    "Details on this can be found [here](https://icechunk.io/en/stable/virtual/)."
   ]
  },
  {
   "cell_type": "code",
   "execution_count": null,
   "id": "badc24a3-3beb-451e-b0ef-8db8fda5a538",
   "metadata": {},
   "outputs": [],
   "source": [
    "storage = icechunk.s3_storage(\n",
    "    bucket=storage_bucket,\n",
    "    prefix=f\"icechunk/{storage_name}\",\n",
    "    anonymous=True,\n",
    "    endpoint_url=storage_endpoint,\n",
    "    region='not-used',   # N/A for Pangeo-EOSC bucket, but required param\n",
    "    force_path_style=True)"
   ]
  },
  {
   "cell_type": "code",
   "execution_count": null,
   "id": "c4267deb-9f3a-4fdf-a41e-6c92c86f6758",
   "metadata": {},
   "outputs": [],
   "source": [
    "config = icechunk.RepositoryConfig.default()\n",
    "\n",
    "config.set_virtual_chunk_container(\n",
    "    icechunk.VirtualChunkContainer(\n",
    "        url_prefix=f\"s3://{data_bucket}/\",\n",
    "        store=icechunk.s3_store(region=\"not-used\", anonymous=True, s3_compatible=True, \n",
    "                                force_path_style=True, endpoint_url=storage_endpoint),\n",
    "    ),\n",
    ")\n"
   ]
  },
  {
   "cell_type": "code",
   "execution_count": null,
   "id": "79a4228a-0e17-4b07-9144-f24fe06db832",
   "metadata": {},
   "outputs": [],
   "source": [
    "credentials = icechunk.containers_credentials(\n",
    "    {f\"s3://{data_bucket}/\": icechunk.s3_credentials(anonymous=False)})\n",
    "repo = icechunk.Repository.open(storage, config, authorize_virtual_chunk_access=credentials)\n",
    "\n",
    "#read_session = read_repo.readonly_session(\"main\")"
   ]
  },
  {
   "cell_type": "code",
   "execution_count": null,
   "id": "b6137cc1-b996-4e60-8c12-01eb19930da6",
   "metadata": {},
   "outputs": [],
   "source": [
    "append_session = repo.writable_session(\"main\")"
   ]
  },
  {
   "cell_type": "code",
   "execution_count": null,
   "id": "a465be46-bb81-4e36-b1b6-67c3b8e4b9ec",
   "metadata": {},
   "outputs": [],
   "source": [
    "ds.virtualize.to_icechunk(append_session.store, append_dim=\"time\")"
   ]
  },
  {
   "cell_type": "code",
   "execution_count": null,
   "id": "e9908d2f-664b-4256-b9d4-842df2e512c3",
   "metadata": {},
   "outputs": [],
   "source": [
    "append_session.commit(\"wrote last day of data\")"
   ]
  },
  {
   "cell_type": "markdown",
   "id": "e1384e99-c284-4942-a49b-7799802728b0",
   "metadata": {},
   "source": [
    "# Check that it worked!\n",
    "Let's create a read-only icechunk session and pass in the authorization credentials for the[ Virtual Chunk Containers](https://icechunk.io/en/latest/configuration/#virtual-chunk-credentials) to Icechunk."
   ]
  },
  {
   "cell_type": "code",
   "execution_count": null,
   "id": "477094aa-2094-46e2-ae78-516fc2a51690",
   "metadata": {},
   "outputs": [],
   "source": [
    "credentials = icechunk.containers_credentials(\n",
    "    {f\"s3://{data_bucket}/\": icechunk.s3_credentials(anonymous=False)})\n",
    "\n",
    "read_repo = icechunk.Repository.open(\n",
    "    storage, config, authorize_virtual_chunk_access=credentials)\n",
    "\n",
    "read_session = read_repo.readonly_session(\"main\")"
   ]
  },
  {
   "cell_type": "code",
   "execution_count": null,
   "id": "47a53027-dbae-48aa-85d2-dcbc04e01e61",
   "metadata": {},
   "outputs": [],
   "source": [
    "ds = xr.open_zarr(read_session.store, consolidated=False, zarr_format=3)"
   ]
  },
  {
   "cell_type": "code",
   "execution_count": null,
   "id": "a6d52640-7789-4ff6-8dfb-e453ad277417",
   "metadata": {},
   "outputs": [],
   "source": [
    "print(ds)"
   ]
  },
  {
   "cell_type": "code",
   "execution_count": null,
   "id": "d89643fe-944b-4bd5-8f83-893f2bfe4909",
   "metadata": {},
   "outputs": [],
   "source": []
  }
 ],
 "metadata": {
  "kernelspec": {
   "display_name": "Python 3 (ipykernel)",
   "language": "python",
   "name": "python3"
  },
  "language_info": {
   "codemirror_mode": {
    "name": "ipython",
    "version": 3
   },
   "file_extension": ".py",
   "mimetype": "text/x-python",
   "name": "python",
   "nbconvert_exporter": "python",
   "pygments_lexer": "ipython3",
   "version": "3.13.7"
  },
  "widgets": {
   "application/vnd.jupyter.widget-state+json": {
    "state": {},
    "version_major": 2,
    "version_minor": 0
   }
  }
 },
 "nbformat": 4,
 "nbformat_minor": 5
}
