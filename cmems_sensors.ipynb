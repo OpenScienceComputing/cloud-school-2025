{
 "cells": [
  {
   "cell_type": "markdown",
   "id": "dbe119c1-6c82-47ab-8f7d-e524e98c8686",
   "metadata": {},
   "source": [
    "# Copernicus Marine station data to Xarray"
   ]
  },
  {
   "cell_type": "code",
   "execution_count": null,
   "id": "b294cc94-f62c-4c84-a80b-139bde086f39",
   "metadata": {},
   "outputs": [],
   "source": [
    "import copernicusmarine\n",
    "import xarray as xr\n",
    "import hvplot.xarray\n",
    "import pandas as pd\n",
    "from datetime import datetime, timezone, timedelta"
   ]
  },
  {
   "cell_type": "code",
   "execution_count": null,
   "id": "ec8586b2-87ef-4395-a138-611e00aafe62",
   "metadata": {},
   "outputs": [],
   "source": [
    "copernicusmarine.__version__"
   ]
  },
  {
   "cell_type": "code",
   "execution_count": null,
   "id": "a8a956d2-5d27-483a-a373-0a97a36e0291",
   "metadata": {},
   "outputs": [],
   "source": [
    "sta = 'RMN-Civitavecchia'\n",
    "var = 'SLEV'\n",
    "ndays = 10   # get only last ndays of data"
   ]
  },
  {
   "cell_type": "code",
   "execution_count": null,
   "id": "49b47642-e8ef-44f8-aaea-0d7d7442744a",
   "metadata": {},
   "outputs": [],
   "source": [
    "# Get current UTC time\n",
    "stop_time = datetime.now(timezone.utc)\n",
    "\n",
    "# Subtract ndays\n",
    "start_time = stop_time - timedelta(days=ndays)\n",
    "print(f\"start_time: {start_time}, stop_time={stop_time}\")"
   ]
  },
  {
   "cell_type": "code",
   "execution_count": null,
   "id": "cb7f5d4f-4b42-4225-ac24-09294eddeb8e",
   "metadata": {},
   "outputs": [],
   "source": [
    "df = copernicusmarine.read_dataframe(\n",
    "    dataset_id=\"cmems_obs-ins_med_phybgcwav_mynrt_na_irr\",\n",
    "    dataset_part=\"latest\",\n",
    "    variables=[var],\n",
    "    start_datetime=start_time,\n",
    "    end_datetime=stop_time,\n",
    "    platform_ids=[sta]\n",
    ")"
   ]
  },
  {
   "cell_type": "code",
   "execution_count": null,
   "id": "3439480d-0f90-4a37-8cf6-ae7ca78d8b3c",
   "metadata": {},
   "outputs": [],
   "source": [
    "df['time'] = pd.to_datetime(df['time'])  # ensure it's datetime64[ns]"
   ]
  },
  {
   "cell_type": "code",
   "execution_count": null,
   "id": "bdd54f94-e11d-482c-9399-802aea305093",
   "metadata": {},
   "outputs": [],
   "source": [
    "ds = df.to_xarray()"
   ]
  },
  {
   "cell_type": "code",
   "execution_count": null,
   "id": "7cd68e10-c337-4e09-8ddf-f20ee0aca2f8",
   "metadata": {},
   "outputs": [],
   "source": [
    "ds"
   ]
  },
  {
   "cell_type": "code",
   "execution_count": null,
   "id": "6c6ec2ab-e82e-4d14-8ddb-4e89a6af2ab8",
   "metadata": {},
   "outputs": [],
   "source": []
  },
  {
   "cell_type": "code",
   "execution_count": null,
   "id": "cd536a58-d3db-4b7f-8da9-8c9d167f7a0b",
   "metadata": {},
   "outputs": [],
   "source": [
    "ds = df.set_index('time').to_xarray()\n",
    "var = str(ds['variable'][0].data)\n",
    "ds = ds.rename({'value':var})"
   ]
  },
  {
   "cell_type": "code",
   "execution_count": null,
   "id": "34e17e4e-dc46-456c-83be-5f8314a7125c",
   "metadata": {},
   "outputs": [],
   "source": [
    "ds[var].hvplot(x='time', grid=True, title=f'Station {sta}')"
   ]
  },
  {
   "cell_type": "code",
   "execution_count": null,
   "id": "d0089474-7b4f-42b1-9d15-a595b75a0677",
   "metadata": {},
   "outputs": [],
   "source": []
  }
 ],
 "metadata": {
  "kernelspec": {
   "display_name": "Python 3 (ipykernel)",
   "language": "python",
   "name": "python3"
  },
  "language_info": {
   "codemirror_mode": {
    "name": "ipython",
    "version": 3
   },
   "file_extension": ".py",
   "mimetype": "text/x-python",
   "name": "python",
   "nbconvert_exporter": "python",
   "pygments_lexer": "ipython3",
   "version": "3.11.12"
  },
  "widgets": {
   "application/vnd.jupyter.widget-state+json": {
    "state": {},
    "version_major": 2,
    "version_minor": 0
   }
  }
 },
 "nbformat": 4,
 "nbformat_minor": 5
}
