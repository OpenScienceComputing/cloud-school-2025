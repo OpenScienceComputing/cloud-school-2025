{
 "cells": [
  {
   "cell_type": "markdown",
   "id": "5bf9fd0d-2fbb-4b78-9942-24d4465cdfbc",
   "metadata": {},
   "source": [
    "# Cloud Native Exploration of SHYFEM model on EGI\n",
    "* Read model output (NetCDF files) directly from S3-compatible MinIO object storage on EGI\n",
    "* Explore regridded output\n",
    "* Explore original triangular mesh output"
   ]
  },
  {
   "cell_type": "code",
   "execution_count": null,
   "id": "5da0ced9-ae7b-4036-8f23-4bbbcb950e4a",
   "metadata": {},
   "outputs": [],
   "source": [
    "import xarray as xr\n",
    "import hvplot.xarray\n",
    "import intake\n",
    "import os"
   ]
  },
  {
   "cell_type": "code",
   "execution_count": null,
   "id": "60a9b2f0-c9ff-4a38-aa57-b87566558c9d",
   "metadata": {},
   "outputs": [],
   "source": [
    "from dotenv import load_dotenv\n",
    "_ = load_dotenv(f'{os.environ['HOME']}/dotenv/school_2025.env')"
   ]
  },
  {
   "cell_type": "code",
   "execution_count": null,
   "id": "43873d71-3176-4d5b-83cb-4c6476ee65c3",
   "metadata": {},
   "outputs": [],
   "source": [
    "url = 's3://rsignell4-protocoast/catalogs/protocoast_intake.yml'"
   ]
  },
  {
   "cell_type": "code",
   "execution_count": null,
   "id": "f0f88b9c-45c6-47ce-93dd-fbbc81d7069f",
   "metadata": {},
   "outputs": [],
   "source": [
    "so = dict(anon=True, endpoint_url='https://pangeo-eosc-minioapi.vm.fedcloud.eu')"
   ]
  },
  {
   "cell_type": "code",
   "execution_count": null,
   "id": "03e542b6-1645-4147-b307-3b7b0ffe9173",
   "metadata": {},
   "outputs": [],
   "source": [
    "cat = intake.open_catalog(url, storage_options=so)"
   ]
  },
  {
   "cell_type": "code",
   "execution_count": null,
   "id": "fff45c38-3ee0-4805-9bfe-e05564a8c76f",
   "metadata": {},
   "outputs": [],
   "source": [
    "list(cat)"
   ]
  },
  {
   "cell_type": "code",
   "execution_count": null,
   "id": "f91d2b1c-f7d6-42d2-82b5-ba3a023d75df",
   "metadata": {},
   "outputs": [],
   "source": [
    "%%time\n",
    "ds = cat['Taranto-SHYFEM'].to_dask()"
   ]
  },
  {
   "cell_type": "code",
   "execution_count": null,
   "id": "2d6587f5-197a-414a-b8bc-2f3fc7910c37",
   "metadata": {},
   "outputs": [],
   "source": [
    "ds"
   ]
  },
  {
   "cell_type": "markdown",
   "id": "7f67b118-0544-4073-b41c-701bb3cea8e5",
   "metadata": {},
   "source": [
    "## SHYFEM output on native triangular mesh"
   ]
  },
  {
   "cell_type": "code",
   "execution_count": null,
   "id": "578a2da5-14f0-4cec-99ad-78e4f2c5a9cf",
   "metadata": {},
   "outputs": [],
   "source": [
    "vname = 'water_level'"
   ]
  },
  {
   "cell_type": "code",
   "execution_count": null,
   "id": "03e74e9d-e1ec-496e-b99e-a478570ce13a",
   "metadata": {},
   "outputs": [],
   "source": [
    "%%time\n",
    "var = ds[vname].isel(time=-1).load()"
   ]
  },
  {
   "cell_type": "code",
   "execution_count": null,
   "id": "f4b6e3f2-bac7-4089-9923-480507d4fad8",
   "metadata": {},
   "outputs": [],
   "source": [
    "import numpy as np\n",
    "import pandas as pd"
   ]
  },
  {
   "cell_type": "code",
   "execution_count": null,
   "id": "c493ccab-a0b1-4a6e-8415-48f7597c788b",
   "metadata": {},
   "outputs": [],
   "source": [
    "v = np.vstack((ds['longitude'], ds['latitude'], var)).T\n",
    "verts = pd.DataFrame(v, columns=['x','y','var'])"
   ]
  },
  {
   "cell_type": "code",
   "execution_count": null,
   "id": "9a32fae8-fb36-4b98-a112-68d7c38bae16",
   "metadata": {},
   "outputs": [],
   "source": [
    "import numpy as np\n",
    "import datashader as dshade\n",
    "import holoviews as hv\n",
    "import geoviews as gv\n",
    "import cartopy.crs as ccrs\n",
    "import hvplot.xarray\n",
    "import holoviews.operation.datashader as dshade\n",
    "\n",
    "dshade.datashade.precompute = True\n",
    "hv.extension('bokeh')"
   ]
  },
  {
   "cell_type": "code",
   "execution_count": null,
   "id": "50f360c7-c9c8-4ddf-a1fe-ddbc6a177e6e",
   "metadata": {},
   "outputs": [],
   "source": [
    "points = gv.operation.project_points(gv.Points(verts, vdims=['var']))"
   ]
  },
  {
   "cell_type": "code",
   "execution_count": null,
   "id": "93c71f60-2d93-47df-9470-86a24041ad32",
   "metadata": {},
   "outputs": [],
   "source": [
    "tris = pd.DataFrame(ds['element_index'].values.astype('int')-1, columns=['v0','v1','v2'])"
   ]
  },
  {
   "cell_type": "code",
   "execution_count": null,
   "id": "8c03d428-05f7-4ac2-8f0e-7bfe16f3f40d",
   "metadata": {},
   "outputs": [],
   "source": [
    "tiles = gv.tile_sources.OSM"
   ]
  },
  {
   "cell_type": "code",
   "execution_count": null,
   "id": "de0d87b1-371b-4ef8-9d5e-6ddbb6f49b1e",
   "metadata": {},
   "outputs": [],
   "source": [
    "trimesh = gv.TriMesh((tris, points), label=vname)\n",
    "trimesh.opts(tools=['hover'])\n",
    "mesh = dshade.rasterize(trimesh).opts(cmap='turbo', colorbar=True, width=600, height=400)"
   ]
  },
  {
   "cell_type": "code",
   "execution_count": null,
   "id": "f10bb108-c1b5-4f68-a98a-28fca68b105b",
   "metadata": {
    "scrolled": true
   },
   "outputs": [],
   "source": [
    "tiles * mesh"
   ]
  }
 ],
 "metadata": {
  "kernelspec": {
   "display_name": "Python 3 (ipykernel)",
   "language": "python",
   "name": "python3"
  },
  "language_info": {
   "codemirror_mode": {
    "name": "ipython",
    "version": 3
   },
   "file_extension": ".py",
   "mimetype": "text/x-python",
   "name": "python",
   "nbconvert_exporter": "python",
   "pygments_lexer": "ipython3",
   "version": "3.13.7"
  }
 },
 "nbformat": 4,
 "nbformat_minor": 5
}
