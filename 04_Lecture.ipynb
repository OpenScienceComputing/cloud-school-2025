{
 "cells": [
  {
   "cell_type": "markdown",
   "id": "82c8a520-c267-4127-9507-b5003d5ef539",
   "metadata": {},
   "source": [
    "## Lecture 4: Introduction to the Pangeo Platform\n",
    "\n",
    "The Pangeo Platform is a community-driven initiative for big data geoscience. It's not a single software package, but rather a collection of open-source tools, documentation, and cloud-based computing infrastructure designed to make large-scale scientific research easier, more reproducible, and scalable.\n",
    "\n",
    "* [Pangeo Presentation](https://docs.google.com/presentation/d/1h8fzA8gwtjRVJh0m1YwmU1vE48xjC5PlmPyjUBjniQQ/edit?usp=sharing) (15 min)\n",
    "* [COAWST Model Explorer Notebook](./COAWST_explore.ipynb) (30 min)"
   ]
  }
 ],
 "metadata": {
  "kernelspec": {
   "display_name": "Python 3 (ipykernel)",
   "language": "python",
   "name": "python3"
  },
  "language_info": {
   "codemirror_mode": {
    "name": "ipython",
    "version": 3
   },
   "file_extension": ".py",
   "mimetype": "text/x-python",
   "name": "python",
   "nbconvert_exporter": "python",
   "pygments_lexer": "ipython3",
   "version": "3.13.7"
  },
  "widgets": {
   "application/vnd.jupyter.widget-state+json": {
    "state": {},
    "version_major": 2,
    "version_minor": 0
   }
  }
 },
 "nbformat": 4,
 "nbformat_minor": 5
}
